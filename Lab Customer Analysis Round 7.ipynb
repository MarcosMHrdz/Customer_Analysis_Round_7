{
 "cells": [
  {
   "cell_type": "markdown",
   "id": "b6edf5a7",
   "metadata": {},
   "source": [
    "Lab | Customer Analysis Round 7\n",
    "For this lab, we still keep using the marketing_customer_analysis.csv file that you can find in the files_for_lab folder.\n",
    "\n",
    "Remember the previous rounds. Follow the steps as shown in previous lectures and try to improve the accuracy of the model. Include both categorical columns in the exercise. Some approaches you can try in this exercise:\n",
    "\n",
    "- use the concept of multicollinearity and remove insignificant variables\n",
    "- use a different method of scaling the numerical variables\n",
    "- use a different ratio of train test split\n",
    "- use the transformation on numerical columns which align it more towards a normal distribution\n",
    "- Get the data\n",
    "- We are using the marketing_customer_analysis.csv file.\n",
    "\n",
    "1. Dealing with the data\n",
    "Already done in rounds 2 to 7.\n",
    "\n",
    "Bonus: Build a function, from round 2 and round 7, to clean and process the data.\n",
    "\n",
    "2. Explore the data\n",
    "Done in the round 3.\n",
    "\n",
    "3. Modeling\n",
    "Description:\n",
    "\n",
    "Try to improve the linear regression model."
   ]
  },
  {
   "cell_type": "markdown",
   "id": "d9df521d",
   "metadata": {},
   "source": [
    "Hago este laboratorio apartir del laboratorio 6, y por ello pongo las dos en el repositorio."
   ]
  },
  {
   "cell_type": "code",
   "execution_count": 1,
   "id": "ba5d1ca2",
   "metadata": {},
   "outputs": [
    {
     "name": "stdout",
     "output_type": "stream",
     "text": [
      "      Customer       State Response             Education Effective To Date  \\\n",
      "2      LZ68649  Washington       No              Bachelor           2/10/11   \n",
      "3      XL78013      Oregon      Yes               College           1/11/11   \n",
      "10     HG93801     Arizona       No  High School or Below            1/2/11   \n",
      "13     KR82385  California       No                Master           1/26/11   \n",
      "16     FH51383  California       No  High School or Below            2/7/11   \n",
      "...        ...         ...      ...                   ...               ...   \n",
      "10902  PP30874  California       No  High School or Below           1/24/11   \n",
      "10903  SU71163     Arizona       No               College            1/7/11   \n",
      "10904  QI63521      Nevada       No  High School or Below           2/24/11   \n",
      "10906  KX53892      Oregon       No               College            1/6/11   \n",
      "10908  WA60547  California       No               College           2/13/11   \n",
      "\n",
      "      EmploymentStatus Gender Location Code Marital Status     Policy Type  \\\n",
      "2             Employed      M      Suburban         Single   Personal Auto   \n",
      "3             Employed      M      Suburban         Single  Corporate Auto   \n",
      "10            Employed      M         Urban        Married  Corporate Auto   \n",
      "13            Employed      M      Suburban         Single   Personal Auto   \n",
      "16            Employed      F         Urban        Married   Personal Auto   \n",
      "...                ...    ...           ...            ...             ...   \n",
      "10902         Employed      F      Suburban        Married   Personal Auto   \n",
      "10903         Employed      M      Suburban        Married   Personal Auto   \n",
      "10904       Unemployed      M      Suburban         Single   Personal Auto   \n",
      "10906         Employed      F         Urban        Married   Personal Auto   \n",
      "10908         Employed      F         Urban       Divorced   Personal Auto   \n",
      "\n",
      "             Policy Renew Offer Type Sales Channel  Vehicle Class  \\\n",
      "2       Personal L3           Offer3   Call Center            SUV   \n",
      "3      Corporate L3           Offer2        Branch  Four-Door Car   \n",
      "10     Corporate L3           Offer2        Branch            SUV   \n",
      "13      Personal L3           Offer4   Call Center   Two-Door Car   \n",
      "16      Personal L3           Offer4   Call Center   Two-Door Car   \n",
      "...             ...              ...           ...            ...   \n",
      "10902   Personal L2           Offer2         Agent  Four-Door Car   \n",
      "10903   Personal L2           Offer2        Branch   Two-Door Car   \n",
      "10904   Personal L2           Offer1        Branch     Luxury SUV   \n",
      "10906   Personal L3           Offer2        Branch  Four-Door Car   \n",
      "10908   Personal L1           Offer1        Branch            SUV   \n",
      "\n",
      "      Vehicle Size Vehicle Type  Basic  Extended  Premium  \n",
      "2          Medsize            A   True     False    False  \n",
      "3          Medsize            A  False      True    False  \n",
      "10           Large            A  False      True    False  \n",
      "13         Medsize            A   True     False    False  \n",
      "16           Large            A   True     False    False  \n",
      "...            ...          ...    ...       ...      ...  \n",
      "10902      Medsize            A  False      True    False  \n",
      "10903      Medsize            A   True     False    False  \n",
      "10904      Medsize            A   True     False    False  \n",
      "10906      Medsize            A   True     False    False  \n",
      "10908      Medsize            A  False     False     True  \n",
      "\n",
      "[4543 rows x 19 columns]\n"
     ]
    },
    {
     "data": {
      "text/plain": [
       "array(['Divorced', 'Married', 'Single'], dtype=object)"
      ]
     },
     "execution_count": 1,
     "metadata": {},
     "output_type": "execute_result"
    }
   ],
   "source": [
    "import pandas as pd\n",
    "df=pd.read_csv(r'C:\\Users\\marco\\OneDrive\\Desktop\\ironhack\\Laboratorios\\files\\marketing_customer_analysis (1).csv')\n",
    "df=df.dropna()\n",
    "numericos=df.select_dtypes(include=[\"int64\", \"float64\"])\n",
    "categoricos=df.select_dtypes(exclude=[\"int64\", \"float64\"])\n",
    "correlaciones=numericos.corr()\n",
    "correlaciones\n",
    "x = df.drop(columns=\"Customer Lifetime Value\") # Cojo todo menos customer lifetime value\n",
    "y = df[\"Customer Lifetime Value\"] # Cojo solo customer lifetime value\n",
    "from sklearn.preprocessing import MinMaxScaler #Has de importar esta libreria para normalizar\n",
    "scaler=MinMaxScaler()\n",
    "nomalized_df=scaler.fit_transform(df.select_dtypes(include=[\"int64\", \"float64\"]))\n",
    "response_code = pd.get_dummies(categoricos['Coverage'])  # los categoricos ya los definiste antes\n",
    "# Concatenar las nuevas columnas codificadas con el DataFrame original\n",
    "categoricos= pd.concat([categoricos, response_code], axis=1)\n",
    "# Eliminar la columna original de la categoría, ya que ya está codificada\n",
    "categoricos.drop('Coverage', axis=1, inplace=True)\n",
    "# Mostrar el DataFrame resultante\n",
    "print(categoricos)\n",
    "from sklearn.preprocessing import LabelEncoder\n",
    "\n",
    "#Este objeto se utiliza para transformar etiquetas categóricas en números \n",
    "# --> útil en preprocesamiento de datos para algoritmos de aprendizaje automático.\n",
    "label_encoder = LabelEncoder()\n",
    "\n",
    "# Aplicamos el Label Encoding a las etiquetas\n",
    "    #El objeto LabelEncoder codifica una columna específica llamada \"Marital Status\" de un DataFrame categoricos1:\n",
    "categoricos[\"Marital Status\"] = label_encoder.fit_transform(categoricos[\"Marital Status\"])\n",
    "# Creamos una instancia del LabelEncoder y lo ajustamos a las etiquetas originales\n",
    "codificaciones = label_encoder.fit_transform(df[\"Marital Status\"])\n",
    "# Obtenemos las categorías originales\n",
    "categorias_originales = label_encoder.classes_\n",
    "categorias_originales"
   ]
  },
  {
   "cell_type": "code",
   "execution_count": 2,
   "id": "15600e81",
   "metadata": {},
   "outputs": [],
   "source": [
    "df = df.drop(columns=['Unnamed: 0'])"
   ]
  },
  {
   "cell_type": "code",
   "execution_count": 3,
   "id": "86fa4dd3",
   "metadata": {},
   "outputs": [],
   "source": [
    "x=x[[\"Income\", \"Monthly Premium Auto\", \"Months Since Last Claim\", \"Months Since Policy Inception\", \"Number of Open Complaints\", \"Number of Policies\", \"Total Claim Amount\"]]"
   ]
  },
  {
   "cell_type": "code",
   "execution_count": 4,
   "id": "8bc1bbe0",
   "metadata": {},
   "outputs": [
    {
     "name": "stdout",
     "output_type": "stream",
     "text": [
      "                        Variable        VIF\n",
      "0                         Income   2.849849\n",
      "1           Monthly Premium Auto  12.306948\n",
      "2        Months Since Last Claim   2.753084\n",
      "3  Months Since Policy Inception   3.261772\n",
      "4      Number of Open Complaints   1.169407\n",
      "5             Number of Policies   2.291154\n",
      "6             Total Claim Amount   6.609525\n"
     ]
    }
   ],
   "source": [
    "# Ahora intentamos analizar colinearity con VIF:\n",
    "import numpy as np\n",
    "from statsmodels.stats.outliers_influence import variance_inflation_factor\n",
    "from statsmodels.tools.tools import add_constant\n",
    "\n",
    "# Añadir una columna constante al DataFrame para el término de intercepción\n",
    "# x = add_constant(numericos)\n",
    "# Calcular el VIF para cada variable\n",
    "vif_data = pd.DataFrame()\n",
    "vif_data[\"Variable\"] = x.columns\n",
    "vif_data[\"VIF\"] = [variance_inflation_factor(x.values, i) for i in range(7)]\n",
    "\n",
    "# Imprimir el DataFrame con los resultados del VIF\n",
    "print(vif_data)"
   ]
  },
  {
   "cell_type": "code",
   "execution_count": 5,
   "id": "1ba78532",
   "metadata": {},
   "outputs": [
    {
     "data": {
      "text/html": [
       "<div>\n",
       "<style scoped>\n",
       "    .dataframe tbody tr th:only-of-type {\n",
       "        vertical-align: middle;\n",
       "    }\n",
       "\n",
       "    .dataframe tbody tr th {\n",
       "        vertical-align: top;\n",
       "    }\n",
       "\n",
       "    .dataframe thead th {\n",
       "        text-align: right;\n",
       "    }\n",
       "</style>\n",
       "<table border=\"1\" class=\"dataframe\">\n",
       "  <thead>\n",
       "    <tr style=\"text-align: right;\">\n",
       "      <th></th>\n",
       "      <th>Unnamed: 0</th>\n",
       "      <th>Customer Lifetime Value</th>\n",
       "      <th>Income</th>\n",
       "      <th>Monthly Premium Auto</th>\n",
       "      <th>Months Since Last Claim</th>\n",
       "      <th>Months Since Policy Inception</th>\n",
       "      <th>Number of Open Complaints</th>\n",
       "      <th>Number of Policies</th>\n",
       "      <th>Total Claim Amount</th>\n",
       "    </tr>\n",
       "  </thead>\n",
       "  <tbody>\n",
       "    <tr>\n",
       "      <th>2</th>\n",
       "      <td>2</td>\n",
       "      <td>14947.917300</td>\n",
       "      <td>22139</td>\n",
       "      <td>100</td>\n",
       "      <td>34.0</td>\n",
       "      <td>31</td>\n",
       "      <td>0.0</td>\n",
       "      <td>2</td>\n",
       "      <td>480.000000</td>\n",
       "    </tr>\n",
       "    <tr>\n",
       "      <th>3</th>\n",
       "      <td>3</td>\n",
       "      <td>22332.439460</td>\n",
       "      <td>49078</td>\n",
       "      <td>97</td>\n",
       "      <td>10.0</td>\n",
       "      <td>3</td>\n",
       "      <td>0.0</td>\n",
       "      <td>2</td>\n",
       "      <td>484.013411</td>\n",
       "    </tr>\n",
       "    <tr>\n",
       "      <th>10</th>\n",
       "      <td>10</td>\n",
       "      <td>5154.764074</td>\n",
       "      <td>82730</td>\n",
       "      <td>127</td>\n",
       "      <td>13.0</td>\n",
       "      <td>31</td>\n",
       "      <td>0.0</td>\n",
       "      <td>1</td>\n",
       "      <td>442.521087</td>\n",
       "    </tr>\n",
       "    <tr>\n",
       "      <th>13</th>\n",
       "      <td>13</td>\n",
       "      <td>5454.587929</td>\n",
       "      <td>66334</td>\n",
       "      <td>69</td>\n",
       "      <td>25.0</td>\n",
       "      <td>25</td>\n",
       "      <td>0.0</td>\n",
       "      <td>4</td>\n",
       "      <td>331.200000</td>\n",
       "    </tr>\n",
       "    <tr>\n",
       "      <th>16</th>\n",
       "      <td>16</td>\n",
       "      <td>5326.677654</td>\n",
       "      <td>76717</td>\n",
       "      <td>66</td>\n",
       "      <td>26.0</td>\n",
       "      <td>10</td>\n",
       "      <td>0.0</td>\n",
       "      <td>6</td>\n",
       "      <td>300.528579</td>\n",
       "    </tr>\n",
       "    <tr>\n",
       "      <th>...</th>\n",
       "      <td>...</td>\n",
       "      <td>...</td>\n",
       "      <td>...</td>\n",
       "      <td>...</td>\n",
       "      <td>...</td>\n",
       "      <td>...</td>\n",
       "      <td>...</td>\n",
       "      <td>...</td>\n",
       "      <td>...</td>\n",
       "    </tr>\n",
       "    <tr>\n",
       "      <th>10902</th>\n",
       "      <td>10902</td>\n",
       "      <td>3579.023825</td>\n",
       "      <td>28304</td>\n",
       "      <td>91</td>\n",
       "      <td>10.0</td>\n",
       "      <td>30</td>\n",
       "      <td>2.0</td>\n",
       "      <td>1</td>\n",
       "      <td>655.200000</td>\n",
       "    </tr>\n",
       "    <tr>\n",
       "      <th>10903</th>\n",
       "      <td>10903</td>\n",
       "      <td>2771.663013</td>\n",
       "      <td>59855</td>\n",
       "      <td>74</td>\n",
       "      <td>30.0</td>\n",
       "      <td>82</td>\n",
       "      <td>4.0</td>\n",
       "      <td>1</td>\n",
       "      <td>355.200000</td>\n",
       "    </tr>\n",
       "    <tr>\n",
       "      <th>10904</th>\n",
       "      <td>10904</td>\n",
       "      <td>19228.463620</td>\n",
       "      <td>0</td>\n",
       "      <td>187</td>\n",
       "      <td>14.0</td>\n",
       "      <td>32</td>\n",
       "      <td>0.0</td>\n",
       "      <td>2</td>\n",
       "      <td>897.600000</td>\n",
       "    </tr>\n",
       "    <tr>\n",
       "      <th>10906</th>\n",
       "      <td>10906</td>\n",
       "      <td>5259.444853</td>\n",
       "      <td>61146</td>\n",
       "      <td>65</td>\n",
       "      <td>7.0</td>\n",
       "      <td>68</td>\n",
       "      <td>0.0</td>\n",
       "      <td>6</td>\n",
       "      <td>273.018929</td>\n",
       "    </tr>\n",
       "    <tr>\n",
       "      <th>10908</th>\n",
       "      <td>10908</td>\n",
       "      <td>11971.977650</td>\n",
       "      <td>64195</td>\n",
       "      <td>158</td>\n",
       "      <td>0.0</td>\n",
       "      <td>27</td>\n",
       "      <td>4.0</td>\n",
       "      <td>6</td>\n",
       "      <td>618.288849</td>\n",
       "    </tr>\n",
       "  </tbody>\n",
       "</table>\n",
       "<p>4543 rows × 9 columns</p>\n",
       "</div>"
      ],
      "text/plain": [
       "       Unnamed: 0  Customer Lifetime Value  Income  Monthly Premium Auto  \\\n",
       "2               2             14947.917300   22139                   100   \n",
       "3               3             22332.439460   49078                    97   \n",
       "10             10              5154.764074   82730                   127   \n",
       "13             13              5454.587929   66334                    69   \n",
       "16             16              5326.677654   76717                    66   \n",
       "...           ...                      ...     ...                   ...   \n",
       "10902       10902              3579.023825   28304                    91   \n",
       "10903       10903              2771.663013   59855                    74   \n",
       "10904       10904             19228.463620       0                   187   \n",
       "10906       10906              5259.444853   61146                    65   \n",
       "10908       10908             11971.977650   64195                   158   \n",
       "\n",
       "       Months Since Last Claim  Months Since Policy Inception  \\\n",
       "2                         34.0                             31   \n",
       "3                         10.0                              3   \n",
       "10                        13.0                             31   \n",
       "13                        25.0                             25   \n",
       "16                        26.0                             10   \n",
       "...                        ...                            ...   \n",
       "10902                     10.0                             30   \n",
       "10903                     30.0                             82   \n",
       "10904                     14.0                             32   \n",
       "10906                      7.0                             68   \n",
       "10908                      0.0                             27   \n",
       "\n",
       "       Number of Open Complaints  Number of Policies  Total Claim Amount  \n",
       "2                            0.0                   2          480.000000  \n",
       "3                            0.0                   2          484.013411  \n",
       "10                           0.0                   1          442.521087  \n",
       "13                           0.0                   4          331.200000  \n",
       "16                           0.0                   6          300.528579  \n",
       "...                          ...                 ...                 ...  \n",
       "10902                        2.0                   1          655.200000  \n",
       "10903                        4.0                   1          355.200000  \n",
       "10904                        0.0                   2          897.600000  \n",
       "10906                        0.0                   6          273.018929  \n",
       "10908                        4.0                   6          618.288849  \n",
       "\n",
       "[4543 rows x 9 columns]"
      ]
     },
     "execution_count": 5,
     "metadata": {},
     "output_type": "execute_result"
    }
   ],
   "source": [
    "numericos"
   ]
  },
  {
   "cell_type": "code",
   "execution_count": 8,
   "id": "36f94b61",
   "metadata": {},
   "outputs": [],
   "source": [
    "# Segun los resuktados, VIF>5 --> multicolinearity y debes eliminar\n",
    "x1=x[[\"Income\", \"Months Since Last Claim\", \"Months Since Policy Inception\", \"Number of Open Complaints\", \"Number of Policies\", \"Total Claim Amount\"]]"
   ]
  },
  {
   "cell_type": "code",
   "execution_count": 12,
   "id": "331dffe1",
   "metadata": {},
   "outputs": [],
   "source": [
    "from sklearn.model_selection import train_test_split\n",
    "# Problema: dentro de x hay vbles categoricas asi que vamos a definir x1 DF sin categoricos:\n",
    "x1=x.select_dtypes(exclude=[\"object\"])\n",
    "# Dividir los datos en un conjunto de entrenamiento (80%) y un conjunto de prueba (20%)\n",
    "x1_train, x1_test, y_train, y_test = train_test_split(x1, y, test_size=0.2, random_state=42)\n",
    "# x (vble indep), y (vble dep)\n",
    "#test_size (tamaño del conjunto d eprueba, ahora 20%)\n",
    "#random_state(semilla para garantizar que la división sea reproducible. Puedes cambiar este valor o dejarlo en None.)\n",
    "# Para entrenar el modelo:\n",
    "from sklearn.linear_model import LinearRegression\n",
    "# Paso 2: Instancia el modelo\n",
    "modelo = LinearRegression()\n",
    "\n",
    "# Paso 3: Entrena el modelo\n",
    "modelo.fit(x1_train, y_train)\n",
    "\n",
    "# Ahora el modelo ha sido entrenado en los datos de entrenamiento\n",
    "\n",
    "coef_regresion=modelo.coef_[0] #corte en abcisas\n",
    "pendiente=modelo.intercept_\n",
    "y_pred = modelo.predict(x1)"
   ]
  },
  {
   "cell_type": "code",
   "execution_count": 14,
   "id": "e51ef33d",
   "metadata": {},
   "outputs": [
    {
     "data": {
      "image/png": "[encoded data removed]",
      "text/plain": [
       "<Figure size 640x480 with 1 Axes>"
      ]
     },
     "metadata": {},
     "output_type": "display_data"
    }
   ],
   "source": [
    "import matplotlib.pyplot as plt\n",
    "# Scatter plot de los datos\n",
    "plt.scatter(x1[\"Monthly Premium Auto\"], y, color='blue', label='Datos')  \n",
    "\n",
    "# Trazar la línea de regresión\n",
    "plt.plot(x1[\"Monthly Premium Auto\"], y_pred, color='red', label='Regresión Lineal')  \n",
    "\n",
    "plt.xlabel('x1')  # Etiqueta del eje x\n",
    "plt.ylabel('y')  # Etiqueta del eje y\n",
    "plt.title('Regresión Lineal')  # Título del gráfico\n",
    "plt.grid(True)  # Mostrar cuadrícula\n",
    "plt.legend()  # Mostrar leyenda\n",
    "plt.show()  # Mostrar gráfico"
   ]
  },
  {
   "cell_type": "code",
   "execution_count": 15,
   "id": "f63e8d30",
   "metadata": {},
   "outputs": [
    {
     "name": "stdout",
     "output_type": "stream",
     "text": [
      "R cuadrado del modelo: 0.17546115361306502\n"
     ]
    }
   ],
   "source": [
    "# 11. Model Validation. Description:\n",
    "    # 11.1. R2:\n",
    "from sklearn.metrics import r2_score\n",
    "\n",
    "# Supongamos que tienes tus datos de predicción y de verdad\n",
    "# y_pred = ...\n",
    "# y_true = ...\n",
    "\n",
    "# Calcular el R cuadrado\n",
    "r_cuadrado = r2_score(y, y_pred)\n",
    "\n",
    "print(\"R cuadrado del modelo:\", r_cuadrado)\n",
    "# El R cuadrado varía entre 0-1 (nula-total explicacion de la varibilidad). \n",
    "# R cuadrado no es una medida perfecta de la bondad del ajuste de un modelo. \n",
    "#Puede ser engañoso. Por lo tanto, es recomendable complementar el analisis con otras métricas de evaluación como:\n",
    "#error cuadrático medio (MSE), error absoluto medio (MAE)para obtener una imagen más completa del rendimiento del modelo."
   ]
  },
  {
   "cell_type": "code",
   "execution_count": 17,
   "id": "ec948127",
   "metadata": {},
   "outputs": [
    {
     "name": "stdout",
     "output_type": "stream",
     "text": [
      "Error cuadrático medio (MSE): 39927789.518765\n"
     ]
    }
   ],
   "source": [
    "# 11.2. MSE --> error cuadrático medio\n",
    "from sklearn.metrics import mean_squared_error\n",
    "# Calcular el error cuadrático medio (MSE)\n",
    "mse = mean_squared_error(y, y_pred)\n",
    "print(\"Error cuadrático medio (MSE):\", mse)"
   ]
  },
  {
   "cell_type": "code",
   "execution_count": 18,
   "id": "3d5c207f",
   "metadata": {},
   "outputs": [
    {
     "name": "stdout",
     "output_type": "stream",
     "text": [
      "RMSE: 6318.844001774771\n"
     ]
    }
   ],
   "source": [
    "import numpy as np\n",
    "# 11.3. RMSE --> MRoot Mean Squared Error\n",
    "rmse = np.sqrt(mse)\n",
    "print(\"RMSE:\", rmse)"
   ]
  },
  {
   "cell_type": "code",
   "execution_count": 19,
   "id": "1e2cd151",
   "metadata": {},
   "outputs": [
    {
     "name": "stdout",
     "output_type": "stream",
     "text": [
      "MAE: 3896.5516000865737\n"
     ]
    }
   ],
   "source": [
    "from sklearn.metrics import mean_absolute_error\n",
    "# 11.4. MAE --> Mean Absolut error\n",
    "mae = mean_absolute_error(y, y_pred)\n",
    "print(\"MAE:\", mae)"
   ]
  },
  {
   "cell_type": "code",
   "execution_count": null,
   "id": "eb968b31",
   "metadata": {},
   "outputs": [],
   "source": []
  }
 ],
 "metadata": {
  "kernelspec": {
   "display_name": "Python 3 (ipykernel)",
   "language": "python",
   "name": "python3"
  },
  "language_info": {
   "codemirror_mode": {
    "name": "ipython",
    "version": 3
   },
   "file_extension": ".py",
   "mimetype": "text/x-python",
   "name": "python",
   "nbconvert_exporter": "python",
   "pygments_lexer": "ipython3",
   "version": "3.11.5"
  }
 },
 "nbformat": 4,
 "nbformat_minor": 5
}
